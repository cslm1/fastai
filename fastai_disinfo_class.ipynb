{
  "cells": [
    {
      "cell_type": "markdown",
      "metadata": {
        "id": "view-in-github",
        "colab_type": "text"
      },
      "source": [
        "<a href=\"https://colab.research.google.com/github/cslm1/fastai/blob/main/fastai_disinfo_class.ipynb\" target=\"_parent\"><img src=\"https://colab.research.google.com/assets/colab-badge.svg\" alt=\"Open In Colab\"/></a>"
      ]
    },
    {
      "cell_type": "code",
      "execution_count": 5,
      "metadata": {
        "colab": {
          "base_uri": "https://localhost:8080/",
          "height": 1000
        },
        "id": "Gu9t-07a7CvI",
        "outputId": "9f1edc32-2c9a-48cb-b3a4-c111252dd1f3"
      },
      "outputs": [
        {
          "output_type": "stream",
          "name": "stdout",
          "text": [
            "Collecting fastbook\n",
            "  Downloading fastbook-0.0.22-py3-none-any.whl (720 kB)\n",
            "\u001b[?25l\r\u001b[K     |▌                               | 10 kB 18.5 MB/s eta 0:00:01\r\u001b[K     |█                               | 20 kB 11.7 MB/s eta 0:00:01\r\u001b[K     |█▍                              | 30 kB 9.2 MB/s eta 0:00:01\r\u001b[K     |█▉                              | 40 kB 8.6 MB/s eta 0:00:01\r\u001b[K     |██▎                             | 51 kB 4.4 MB/s eta 0:00:01\r\u001b[K     |██▊                             | 61 kB 5.2 MB/s eta 0:00:01\r\u001b[K     |███▏                            | 71 kB 5.6 MB/s eta 0:00:01\r\u001b[K     |███▋                            | 81 kB 5.6 MB/s eta 0:00:01\r\u001b[K     |████                            | 92 kB 6.2 MB/s eta 0:00:01\r\u001b[K     |████▌                           | 102 kB 5.4 MB/s eta 0:00:01\r\u001b[K     |█████                           | 112 kB 5.4 MB/s eta 0:00:01\r\u001b[K     |█████▌                          | 122 kB 5.4 MB/s eta 0:00:01\r\u001b[K     |██████                          | 133 kB 5.4 MB/s eta 0:00:01\r\u001b[K     |██████▍                         | 143 kB 5.4 MB/s eta 0:00:01\r\u001b[K     |██████▉                         | 153 kB 5.4 MB/s eta 0:00:01\r\u001b[K     |███████▎                        | 163 kB 5.4 MB/s eta 0:00:01\r\u001b[K     |███████▊                        | 174 kB 5.4 MB/s eta 0:00:01\r\u001b[K     |████████▏                       | 184 kB 5.4 MB/s eta 0:00:01\r\u001b[K     |████████▋                       | 194 kB 5.4 MB/s eta 0:00:01\r\u001b[K     |█████████                       | 204 kB 5.4 MB/s eta 0:00:01\r\u001b[K     |█████████▋                      | 215 kB 5.4 MB/s eta 0:00:01\r\u001b[K     |██████████                      | 225 kB 5.4 MB/s eta 0:00:01\r\u001b[K     |██████████▌                     | 235 kB 5.4 MB/s eta 0:00:01\r\u001b[K     |███████████                     | 245 kB 5.4 MB/s eta 0:00:01\r\u001b[K     |███████████▍                    | 256 kB 5.4 MB/s eta 0:00:01\r\u001b[K     |███████████▉                    | 266 kB 5.4 MB/s eta 0:00:01\r\u001b[K     |████████████▎                   | 276 kB 5.4 MB/s eta 0:00:01\r\u001b[K     |████████████▊                   | 286 kB 5.4 MB/s eta 0:00:01\r\u001b[K     |█████████████▏                  | 296 kB 5.4 MB/s eta 0:00:01\r\u001b[K     |█████████████▋                  | 307 kB 5.4 MB/s eta 0:00:01\r\u001b[K     |██████████████                  | 317 kB 5.4 MB/s eta 0:00:01\r\u001b[K     |██████████████▋                 | 327 kB 5.4 MB/s eta 0:00:01\r\u001b[K     |███████████████                 | 337 kB 5.4 MB/s eta 0:00:01\r\u001b[K     |███████████████▌                | 348 kB 5.4 MB/s eta 0:00:01\r\u001b[K     |████████████████                | 358 kB 5.4 MB/s eta 0:00:01\r\u001b[K     |████████████████▍               | 368 kB 5.4 MB/s eta 0:00:01\r\u001b[K     |████████████████▉               | 378 kB 5.4 MB/s eta 0:00:01\r\u001b[K     |█████████████████▎              | 389 kB 5.4 MB/s eta 0:00:01\r\u001b[K     |█████████████████▊              | 399 kB 5.4 MB/s eta 0:00:01\r\u001b[K     |██████████████████▏             | 409 kB 5.4 MB/s eta 0:00:01\r\u001b[K     |██████████████████▋             | 419 kB 5.4 MB/s eta 0:00:01\r\u001b[K     |███████████████████▏            | 430 kB 5.4 MB/s eta 0:00:01\r\u001b[K     |███████████████████▋            | 440 kB 5.4 MB/s eta 0:00:01\r\u001b[K     |████████████████████            | 450 kB 5.4 MB/s eta 0:00:01\r\u001b[K     |████████████████████▌           | 460 kB 5.4 MB/s eta 0:00:01\r\u001b[K     |█████████████████████           | 471 kB 5.4 MB/s eta 0:00:01\r\u001b[K     |█████████████████████▍          | 481 kB 5.4 MB/s eta 0:00:01\r\u001b[K     |█████████████████████▉          | 491 kB 5.4 MB/s eta 0:00:01\r\u001b[K     |██████████████████████▎         | 501 kB 5.4 MB/s eta 0:00:01\r\u001b[K     |██████████████████████▊         | 512 kB 5.4 MB/s eta 0:00:01\r\u001b[K     |███████████████████████▏        | 522 kB 5.4 MB/s eta 0:00:01\r\u001b[K     |███████████████████████▋        | 532 kB 5.4 MB/s eta 0:00:01\r\u001b[K     |████████████████████████▏       | 542 kB 5.4 MB/s eta 0:00:01\r\u001b[K     |████████████████████████▋       | 552 kB 5.4 MB/s eta 0:00:01\r\u001b[K     |█████████████████████████       | 563 kB 5.4 MB/s eta 0:00:01\r\u001b[K     |█████████████████████████▌      | 573 kB 5.4 MB/s eta 0:00:01\r\u001b[K     |██████████████████████████      | 583 kB 5.4 MB/s eta 0:00:01\r\u001b[K     |██████████████████████████▍     | 593 kB 5.4 MB/s eta 0:00:01\r\u001b[K     |██████████████████████████▉     | 604 kB 5.4 MB/s eta 0:00:01\r\u001b[K     |███████████████████████████▎    | 614 kB 5.4 MB/s eta 0:00:01\r\u001b[K     |███████████████████████████▊    | 624 kB 5.4 MB/s eta 0:00:01\r\u001b[K     |████████████████████████████▏   | 634 kB 5.4 MB/s eta 0:00:01\r\u001b[K     |████████████████████████████▊   | 645 kB 5.4 MB/s eta 0:00:01\r\u001b[K     |█████████████████████████████▏  | 655 kB 5.4 MB/s eta 0:00:01\r\u001b[K     |█████████████████████████████▋  | 665 kB 5.4 MB/s eta 0:00:01\r\u001b[K     |██████████████████████████████  | 675 kB 5.4 MB/s eta 0:00:01\r\u001b[K     |██████████████████████████████▌ | 686 kB 5.4 MB/s eta 0:00:01\r\u001b[K     |███████████████████████████████ | 696 kB 5.4 MB/s eta 0:00:01\r\u001b[K     |███████████████████████████████▍| 706 kB 5.4 MB/s eta 0:00:01\r\u001b[K     |███████████████████████████████▉| 716 kB 5.4 MB/s eta 0:00:01\r\u001b[K     |████████████████████████████████| 720 kB 5.4 MB/s \n",
            "\u001b[?25hRequirement already satisfied: packaging in /usr/local/lib/python3.7/dist-packages (from fastbook) (21.3)\n",
            "Requirement already satisfied: pip in /usr/local/lib/python3.7/dist-packages (from fastbook) (21.1.3)\n",
            "Collecting sentencepiece\n",
            "  Downloading sentencepiece-0.1.96-cp37-cp37m-manylinux_2_17_x86_64.manylinux2014_x86_64.whl (1.2 MB)\n",
            "\u001b[K     |████████████████████████████████| 1.2 MB 40.3 MB/s \n",
            "\u001b[?25hCollecting fastai>=2.6\n",
            "  Downloading fastai-2.6.3-py3-none-any.whl (197 kB)\n",
            "\u001b[K     |████████████████████████████████| 197 kB 50.1 MB/s \n",
            "\u001b[?25hRequirement already satisfied: requests in /usr/local/lib/python3.7/dist-packages (from fastbook) (2.23.0)\n",
            "Requirement already satisfied: graphviz in /usr/local/lib/python3.7/dist-packages (from fastbook) (0.10.1)\n",
            "Requirement already satisfied: pandas in /usr/local/lib/python3.7/dist-packages (from fastbook) (1.3.5)\n",
            "Requirement already satisfied: ipywidgets in /usr/local/lib/python3.7/dist-packages (from fastbook) (7.7.0)\n",
            "Collecting fastdownload<2,>=0.0.5\n",
            "  Downloading fastdownload-0.0.5-py3-none-any.whl (13 kB)\n",
            "Requirement already satisfied: spacy<4 in /usr/local/lib/python3.7/dist-packages (from fastai>=2.6->fastbook) (2.2.4)\n",
            "Requirement already satisfied: matplotlib in /usr/local/lib/python3.7/dist-packages (from fastai>=2.6->fastbook) (3.2.2)\n",
            "Requirement already satisfied: pillow>6.0.0 in /usr/local/lib/python3.7/dist-packages (from fastai>=2.6->fastbook) (7.1.2)\n",
            "Requirement already satisfied: torchvision>=0.8.2 in /usr/local/lib/python3.7/dist-packages (from fastai>=2.6->fastbook) (0.12.0+cu113)\n",
            "Requirement already satisfied: fastprogress>=0.2.4 in /usr/local/lib/python3.7/dist-packages (from fastai>=2.6->fastbook) (1.0.2)\n",
            "Requirement already satisfied: pyyaml in /usr/local/lib/python3.7/dist-packages (from fastai>=2.6->fastbook) (3.13)\n",
            "Requirement already satisfied: scipy in /usr/local/lib/python3.7/dist-packages (from fastai>=2.6->fastbook) (1.4.1)\n",
            "Requirement already satisfied: torch<1.12,>=1.7.0 in /usr/local/lib/python3.7/dist-packages (from fastai>=2.6->fastbook) (1.11.0+cu113)\n",
            "Requirement already satisfied: scikit-learn in /usr/local/lib/python3.7/dist-packages (from fastai>=2.6->fastbook) (1.0.2)\n",
            "Collecting fastcore<1.5,>=1.3.27\n",
            "  Downloading fastcore-1.4.2-py3-none-any.whl (60 kB)\n",
            "\u001b[K     |████████████████████████████████| 60 kB 7.1 MB/s \n",
            "\u001b[?25hRequirement already satisfied: murmurhash<1.1.0,>=0.28.0 in /usr/local/lib/python3.7/dist-packages (from spacy<4->fastai>=2.6->fastbook) (1.0.7)\n",
            "Requirement already satisfied: blis<0.5.0,>=0.4.0 in /usr/local/lib/python3.7/dist-packages (from spacy<4->fastai>=2.6->fastbook) (0.4.1)\n",
            "Requirement already satisfied: setuptools in /usr/local/lib/python3.7/dist-packages (from spacy<4->fastai>=2.6->fastbook) (57.4.0)\n",
            "Requirement already satisfied: plac<1.2.0,>=0.9.6 in /usr/local/lib/python3.7/dist-packages (from spacy<4->fastai>=2.6->fastbook) (1.1.3)\n",
            "Requirement already satisfied: numpy>=1.15.0 in /usr/local/lib/python3.7/dist-packages (from spacy<4->fastai>=2.6->fastbook) (1.21.6)\n",
            "Requirement already satisfied: preshed<3.1.0,>=3.0.2 in /usr/local/lib/python3.7/dist-packages (from spacy<4->fastai>=2.6->fastbook) (3.0.6)\n",
            "Requirement already satisfied: cymem<2.1.0,>=2.0.2 in /usr/local/lib/python3.7/dist-packages (from spacy<4->fastai>=2.6->fastbook) (2.0.6)\n",
            "Requirement already satisfied: tqdm<5.0.0,>=4.38.0 in /usr/local/lib/python3.7/dist-packages (from spacy<4->fastai>=2.6->fastbook) (4.64.0)\n",
            "Requirement already satisfied: wasabi<1.1.0,>=0.4.0 in /usr/local/lib/python3.7/dist-packages (from spacy<4->fastai>=2.6->fastbook) (0.9.1)\n",
            "Requirement already satisfied: catalogue<1.1.0,>=0.0.7 in /usr/local/lib/python3.7/dist-packages (from spacy<4->fastai>=2.6->fastbook) (1.0.0)\n",
            "Requirement already satisfied: thinc==7.4.0 in /usr/local/lib/python3.7/dist-packages (from spacy<4->fastai>=2.6->fastbook) (7.4.0)\n",
            "Requirement already satisfied: srsly<1.1.0,>=1.0.2 in /usr/local/lib/python3.7/dist-packages (from spacy<4->fastai>=2.6->fastbook) (1.0.5)\n",
            "Requirement already satisfied: importlib-metadata>=0.20 in /usr/local/lib/python3.7/dist-packages (from catalogue<1.1.0,>=0.0.7->spacy<4->fastai>=2.6->fastbook) (4.11.3)\n",
            "Requirement already satisfied: zipp>=0.5 in /usr/local/lib/python3.7/dist-packages (from importlib-metadata>=0.20->catalogue<1.1.0,>=0.0.7->spacy<4->fastai>=2.6->fastbook) (3.8.0)\n",
            "Requirement already satisfied: typing-extensions>=3.6.4 in /usr/local/lib/python3.7/dist-packages (from importlib-metadata>=0.20->catalogue<1.1.0,>=0.0.7->spacy<4->fastai>=2.6->fastbook) (4.2.0)\n",
            "Requirement already satisfied: chardet<4,>=3.0.2 in /usr/local/lib/python3.7/dist-packages (from requests->fastbook) (3.0.4)\n",
            "Requirement already satisfied: urllib3!=1.25.0,!=1.25.1,<1.26,>=1.21.1 in /usr/local/lib/python3.7/dist-packages (from requests->fastbook) (1.24.3)\n",
            "Requirement already satisfied: idna<3,>=2.5 in /usr/local/lib/python3.7/dist-packages (from requests->fastbook) (2.10)\n",
            "Requirement already satisfied: certifi>=2017.4.17 in /usr/local/lib/python3.7/dist-packages (from requests->fastbook) (2021.10.8)\n",
            "Requirement already satisfied: ipykernel>=4.5.1 in /usr/local/lib/python3.7/dist-packages (from ipywidgets->fastbook) (4.10.1)\n",
            "Requirement already satisfied: traitlets>=4.3.1 in /usr/local/lib/python3.7/dist-packages (from ipywidgets->fastbook) (5.1.1)\n",
            "Requirement already satisfied: ipython-genutils~=0.2.0 in /usr/local/lib/python3.7/dist-packages (from ipywidgets->fastbook) (0.2.0)\n",
            "Requirement already satisfied: nbformat>=4.2.0 in /usr/local/lib/python3.7/dist-packages (from ipywidgets->fastbook) (5.3.0)\n",
            "Requirement already satisfied: widgetsnbextension~=3.6.0 in /usr/local/lib/python3.7/dist-packages (from ipywidgets->fastbook) (3.6.0)\n",
            "Requirement already satisfied: jupyterlab-widgets>=1.0.0 in /usr/local/lib/python3.7/dist-packages (from ipywidgets->fastbook) (1.1.0)\n",
            "Requirement already satisfied: ipython>=4.0.0 in /usr/local/lib/python3.7/dist-packages (from ipywidgets->fastbook) (5.5.0)\n",
            "Requirement already satisfied: jupyter-client in /usr/local/lib/python3.7/dist-packages (from ipykernel>=4.5.1->ipywidgets->fastbook) (5.3.5)\n",
            "Requirement already satisfied: tornado>=4.0 in /usr/local/lib/python3.7/dist-packages (from ipykernel>=4.5.1->ipywidgets->fastbook) (5.1.1)\n",
            "Requirement already satisfied: pygments in /usr/local/lib/python3.7/dist-packages (from ipython>=4.0.0->ipywidgets->fastbook) (2.6.1)\n",
            "Requirement already satisfied: pexpect in /usr/local/lib/python3.7/dist-packages (from ipython>=4.0.0->ipywidgets->fastbook) (4.8.0)\n",
            "Requirement already satisfied: simplegeneric>0.8 in /usr/local/lib/python3.7/dist-packages (from ipython>=4.0.0->ipywidgets->fastbook) (0.8.1)\n",
            "Requirement already satisfied: prompt-toolkit<2.0.0,>=1.0.4 in /usr/local/lib/python3.7/dist-packages (from ipython>=4.0.0->ipywidgets->fastbook) (1.0.18)\n",
            "Requirement already satisfied: decorator in /usr/local/lib/python3.7/dist-packages (from ipython>=4.0.0->ipywidgets->fastbook) (4.4.2)\n",
            "Requirement already satisfied: pickleshare in /usr/local/lib/python3.7/dist-packages (from ipython>=4.0.0->ipywidgets->fastbook) (0.7.5)\n",
            "Requirement already satisfied: jsonschema>=2.6 in /usr/local/lib/python3.7/dist-packages (from nbformat>=4.2.0->ipywidgets->fastbook) (4.3.3)\n",
            "Requirement already satisfied: jupyter-core in /usr/local/lib/python3.7/dist-packages (from nbformat>=4.2.0->ipywidgets->fastbook) (4.10.0)\n",
            "Requirement already satisfied: fastjsonschema in /usr/local/lib/python3.7/dist-packages (from nbformat>=4.2.0->ipywidgets->fastbook) (2.15.3)\n",
            "Requirement already satisfied: attrs>=17.4.0 in /usr/local/lib/python3.7/dist-packages (from jsonschema>=2.6->nbformat>=4.2.0->ipywidgets->fastbook) (21.4.0)\n",
            "Requirement already satisfied: pyrsistent!=0.17.0,!=0.17.1,!=0.17.2,>=0.14.0 in /usr/local/lib/python3.7/dist-packages (from jsonschema>=2.6->nbformat>=4.2.0->ipywidgets->fastbook) (0.18.1)\n",
            "Requirement already satisfied: importlib-resources>=1.4.0 in /usr/local/lib/python3.7/dist-packages (from jsonschema>=2.6->nbformat>=4.2.0->ipywidgets->fastbook) (5.7.1)\n",
            "Requirement already satisfied: six>=1.9.0 in /usr/local/lib/python3.7/dist-packages (from prompt-toolkit<2.0.0,>=1.0.4->ipython>=4.0.0->ipywidgets->fastbook) (1.15.0)\n",
            "Requirement already satisfied: wcwidth in /usr/local/lib/python3.7/dist-packages (from prompt-toolkit<2.0.0,>=1.0.4->ipython>=4.0.0->ipywidgets->fastbook) (0.2.5)\n",
            "Requirement already satisfied: notebook>=4.4.1 in /usr/local/lib/python3.7/dist-packages (from widgetsnbextension~=3.6.0->ipywidgets->fastbook) (5.3.1)\n",
            "Requirement already satisfied: Send2Trash in /usr/local/lib/python3.7/dist-packages (from notebook>=4.4.1->widgetsnbextension~=3.6.0->ipywidgets->fastbook) (1.8.0)\n",
            "Requirement already satisfied: nbconvert in /usr/local/lib/python3.7/dist-packages (from notebook>=4.4.1->widgetsnbextension~=3.6.0->ipywidgets->fastbook) (5.6.1)\n",
            "Requirement already satisfied: jinja2 in /usr/local/lib/python3.7/dist-packages (from notebook>=4.4.1->widgetsnbextension~=3.6.0->ipywidgets->fastbook) (2.11.3)\n",
            "Requirement already satisfied: terminado>=0.8.1 in /usr/local/lib/python3.7/dist-packages (from notebook>=4.4.1->widgetsnbextension~=3.6.0->ipywidgets->fastbook) (0.13.3)\n",
            "Requirement already satisfied: pyzmq>=13 in /usr/local/lib/python3.7/dist-packages (from jupyter-client->ipykernel>=4.5.1->ipywidgets->fastbook) (22.3.0)\n",
            "Requirement already satisfied: python-dateutil>=2.1 in /usr/local/lib/python3.7/dist-packages (from jupyter-client->ipykernel>=4.5.1->ipywidgets->fastbook) (2.8.2)\n",
            "Requirement already satisfied: ptyprocess in /usr/local/lib/python3.7/dist-packages (from terminado>=0.8.1->notebook>=4.4.1->widgetsnbextension~=3.6.0->ipywidgets->fastbook) (0.7.0)\n",
            "Requirement already satisfied: MarkupSafe>=0.23 in /usr/local/lib/python3.7/dist-packages (from jinja2->notebook>=4.4.1->widgetsnbextension~=3.6.0->ipywidgets->fastbook) (2.0.1)\n",
            "Requirement already satisfied: pyparsing!=2.0.4,!=2.1.2,!=2.1.6,>=2.0.1 in /usr/local/lib/python3.7/dist-packages (from matplotlib->fastai>=2.6->fastbook) (3.0.8)\n",
            "Requirement already satisfied: cycler>=0.10 in /usr/local/lib/python3.7/dist-packages (from matplotlib->fastai>=2.6->fastbook) (0.11.0)\n",
            "Requirement already satisfied: kiwisolver>=1.0.1 in /usr/local/lib/python3.7/dist-packages (from matplotlib->fastai>=2.6->fastbook) (1.4.2)\n",
            "Requirement already satisfied: entrypoints>=0.2.2 in /usr/local/lib/python3.7/dist-packages (from nbconvert->notebook>=4.4.1->widgetsnbextension~=3.6.0->ipywidgets->fastbook) (0.4)\n",
            "Requirement already satisfied: defusedxml in /usr/local/lib/python3.7/dist-packages (from nbconvert->notebook>=4.4.1->widgetsnbextension~=3.6.0->ipywidgets->fastbook) (0.7.1)\n",
            "Requirement already satisfied: bleach in /usr/local/lib/python3.7/dist-packages (from nbconvert->notebook>=4.4.1->widgetsnbextension~=3.6.0->ipywidgets->fastbook) (5.0.0)\n",
            "Requirement already satisfied: testpath in /usr/local/lib/python3.7/dist-packages (from nbconvert->notebook>=4.4.1->widgetsnbextension~=3.6.0->ipywidgets->fastbook) (0.6.0)\n",
            "Requirement already satisfied: pandocfilters>=1.4.1 in /usr/local/lib/python3.7/dist-packages (from nbconvert->notebook>=4.4.1->widgetsnbextension~=3.6.0->ipywidgets->fastbook) (1.5.0)\n",
            "Requirement already satisfied: mistune<2,>=0.8.1 in /usr/local/lib/python3.7/dist-packages (from nbconvert->notebook>=4.4.1->widgetsnbextension~=3.6.0->ipywidgets->fastbook) (0.8.4)\n",
            "Requirement already satisfied: webencodings in /usr/local/lib/python3.7/dist-packages (from bleach->nbconvert->notebook>=4.4.1->widgetsnbextension~=3.6.0->ipywidgets->fastbook) (0.5.1)\n",
            "Requirement already satisfied: pytz>=2017.3 in /usr/local/lib/python3.7/dist-packages (from pandas->fastbook) (2022.1)\n",
            "Requirement already satisfied: joblib>=0.11 in /usr/local/lib/python3.7/dist-packages (from scikit-learn->fastai>=2.6->fastbook) (1.1.0)\n",
            "Requirement already satisfied: threadpoolctl>=2.0.0 in /usr/local/lib/python3.7/dist-packages (from scikit-learn->fastai>=2.6->fastbook) (3.1.0)\n",
            "Installing collected packages: fastcore, fastdownload, sentencepiece, fastai, fastbook\n",
            "  Attempting uninstall: fastai\n",
            "    Found existing installation: fastai 1.0.61\n",
            "    Uninstalling fastai-1.0.61:\n",
            "      Successfully uninstalled fastai-1.0.61\n",
            "Successfully installed fastai-2.6.3 fastbook-0.0.22 fastcore-1.4.2 fastdownload-0.0.5 sentencepiece-0.1.96\n"
          ]
        },
        {
          "output_type": "display_data",
          "data": {
            "application/vnd.colab-display-data+json": {
              "pip_warning": {
                "packages": [
                  "fastai"
                ]
              }
            }
          },
          "metadata": {}
        }
      ],
      "source": [
        "pip install fastbook"
      ]
    },
    {
      "cell_type": "code",
      "source": [
        "import fastai\n",
        "import requests as r\n",
        "\n",
        "!gsutil cp gs://twitter-election-integrity/hashed/2020_05/china_052020/china_052020_tweet_media_hashed/china_052020_hashed_012.zip .\n",
        "!gsutil cp gs://twitter-election-integrity/hashed/2020_05/russia_052020/russia_052020_tweet_media_hashed/russia_052020_hashed_009.zip .\n"
      ],
      "metadata": {
        "colab": {
          "base_uri": "https://localhost:8080/"
        },
        "id": "cNco0PczSJYw",
        "outputId": "0f66e2d0-d4de-4170-e85c-37579aa325d3"
      },
      "execution_count": 1,
      "outputs": [
        {
          "output_type": "stream",
          "name": "stdout",
          "text": [
            "Copying gs://twitter-election-integrity/hashed/2020_05/china_052020/china_052020_tweet_media_hashed/china_052020_hashed_012.zip...\n",
            "/ [1 files][  1.9 GiB/  1.9 GiB]   39.6 MiB/s                                   \n",
            "Operation completed over 1 objects/1.9 GiB.                                      \n",
            "Copying gs://twitter-election-integrity/hashed/2020_05/russia_052020/russia_052020_tweet_media_hashed/russia_052020_hashed_009.zip...\n",
            "/ [1 files][  1.9 GiB/  1.9 GiB]   41.4 MiB/s                                   \n",
            "Operation completed over 1 objects/1.9 GiB.                                      \n"
          ]
        }
      ]
    },
    {
      "cell_type": "code",
      "source": [
        "!unzip /content/china_052020_hashed_012.zip\n",
        "!unzip /content/russia_052020_hashed_009.zip"
      ],
      "metadata": {
        "id": "uCuqP8pgS7N2"
      },
      "execution_count": null,
      "outputs": []
    },
    {
      "cell_type": "code",
      "source": [
        ""
      ],
      "metadata": {
        "id": "uLn0EuU2T9dc"
      },
      "execution_count": 10,
      "outputs": []
    },
    {
      "cell_type": "code",
      "source": [
        "import fastbook \n",
        "from fastbook import *\n",
        "from fastai.vision.widgets import *\n"
      ],
      "metadata": {
        "id": "aOM2GYChVEfV"
      },
      "execution_count": 6,
      "outputs": []
    },
    {
      "cell_type": "code",
      "source": [
        "from os import *\n",
        "\n",
        "base_path_chn = \"/content/china_052020_hashed_012/\"\n",
        "base_path_rus = \"/content/russia_052020_hashed_009/\"\n",
        "\n",
        "#we shall store all the file names in this list\n",
        "# china\n",
        "filelist_chn = []\n",
        "\n",
        "for root, dirs, files in os.walk(base_path_chn):\n",
        "\tfor file in files:\n",
        "        #append the file name to the list\n",
        "\t\tfilelist_chn.append(os.path.join(base_path_chn,file))\n",
        "\n",
        "# russia\n",
        "filelist_rus = []\n",
        "\n",
        "for root, dirs, files in os.walk(base_path_rus):\n",
        "\tfor file in files:\n",
        "        #append the file name to the list\n",
        "\t\tfilelist_rus.append(os.path.join(base_path_rus,file))\n",
        "\n",
        "\n"
      ],
      "metadata": {
        "id": "3ofidYNkWbKd"
      },
      "execution_count": 7,
      "outputs": []
    },
    {
      "cell_type": "code",
      "source": [
        "import re\n",
        "str_chn = str(filelist_chn)\n"
      ],
      "metadata": {
        "id": "iXbK94Q7bw19"
      },
      "execution_count": null,
      "outputs": []
    },
    {
      "cell_type": "code",
      "source": [
        "chn_jpgs = []\n",
        "for file in filelist_chn:\n",
        "  if \n"
      ],
      "metadata": {
        "colab": {
          "base_uri": "https://localhost:8080/"
        },
        "id": "weTXkb6e2K1e",
        "outputId": "8013bb0c-7555-4ec2-f60b-fde4a741905e"
      },
      "execution_count": 21,
      "outputs": [
        {
          "output_type": "stream",
          "name": "stdout",
          "text": [
            "<re.Match object; span=(12, 15), match='Spa'>\n"
          ]
        }
      ]
    }
  ],
  "metadata": {
    "colab": {
      "name": "Untitled3.ipynb",
      "provenance": [],
      "authorship_tag": "ABX9TyMuj/WpZx1cPbZwZpiwpaoa",
      "include_colab_link": true
    },
    "kernelspec": {
      "display_name": "Python 3",
      "name": "python3"
    },
    "language_info": {
      "name": "python"
    },
    "accelerator": "GPU"
  },
  "nbformat": 4,
  "nbformat_minor": 0
}